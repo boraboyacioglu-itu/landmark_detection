{
 "cells": [
  {
   "cell_type": "markdown",
   "metadata": {},
   "source": [
    "# Model"
   ]
  },
  {
   "cell_type": "markdown",
   "metadata": {},
   "source": [
    "Import necessary libraries."
   ]
  },
  {
   "cell_type": "code",
   "execution_count": 8,
   "metadata": {},
   "outputs": [],
   "source": [
    "import numpy as np\n",
    "import pandas as pd\n",
    "\n",
    "import tensorflow as tf\n",
    "from tensorflow.keras import layers, Model\n",
    "\n",
    "from sklearn.model_selection import train_test_split"
   ]
  },
  {
   "cell_type": "markdown",
   "metadata": {},
   "source": [
    "Read the augmented data."
   ]
  },
  {
   "cell_type": "code",
   "execution_count": 4,
   "metadata": {},
   "outputs": [],
   "source": [
    "lm = pd.read_json('new_data/lm_300wLP_anno_tr.json')"
   ]
  },
  {
   "cell_type": "markdown",
   "metadata": {},
   "source": [
    "## Building the Model"
   ]
  },
  {
   "cell_type": "code",
   "execution_count": 13,
   "metadata": {},
   "outputs": [],
   "source": [
    "# Train-test split\n",
    "X_train, X_test = train_test_split(lm['landmarks_2d'], test_size=0.2, random_state=42)\n",
    "y_train, y_test = train_test_split(lm['landmarks'], test_size=0.2, random_state=42)"
   ]
  },
  {
   "cell_type": "code",
   "execution_count": 14,
   "metadata": {},
   "outputs": [
    {
     "data": {
      "text/plain": [
       "1113    [[[134.8625641, 254.3249359], [136.4567108, 27...\n",
       "1309    [[[138.4798737, 267.6000977], [140.4720154, 29...\n",
       "805     [[[137.0505981, 268.2783508], [140.3344421, 28...\n",
       "1173    [[[136.6831818, 232.1711884], [139.3064575, 26...\n",
       "2770    [[[140.2433472, 253.5360107], [144.2132263, 27...\n",
       "                              ...                        \n",
       "3798    [[[132.6191711, 247.0334015], [136.8818665, 27...\n",
       "376     [[[143.4956818, 247.5625305], [137.6270905, 26...\n",
       "1263    [[[154.2479553, 289.163147], [154.1784668, 307...\n",
       "1075    [[[134.6793518, 230.1926422], [134.34729, 256....\n",
       "2421    [[[137.6133881, 234.6465454], [138.1734314, 25...\n",
       "Name: landmarks_2d, Length: 768, dtype: object"
      ]
     },
     "execution_count": 14,
     "metadata": {},
     "output_type": "execute_result"
    }
   ],
   "source": [
    "X_test"
   ]
  }
 ],
 "metadata": {
  "kernelspec": {
   "display_name": "Python 3",
   "language": "python",
   "name": "python3"
  },
  "language_info": {
   "codemirror_mode": {
    "name": "ipython",
    "version": 3
   },
   "file_extension": ".py",
   "mimetype": "text/x-python",
   "name": "python",
   "nbconvert_exporter": "python",
   "pygments_lexer": "ipython3",
   "version": "3.11.9"
  }
 },
 "nbformat": 4,
 "nbformat_minor": 2
}
