{
 "cells": [
  {
   "cell_type": "markdown",
   "metadata": {},
   "source": [
    "# Face Recognition w/ 3D Landmarks\n",
    "\n",
    "Melisa Mete, 150200316\n",
    "\n",
    "Öykü Eren, 150200326\n",
    "\n",
    "Bora Boyacıoğlu, 150200310\n",
    "\n",
    "## Step 1: Data Preparation and Preprocessing"
   ]
  },
  {
   "cell_type": "markdown",
   "metadata": {},
   "source": [
    "Import necessary libraries."
   ]
  },
  {
   "cell_type": "code",
   "execution_count": null,
   "metadata": {},
   "outputs": [],
   "source": [
    "import torch\n",
    "import torch.nn as nn\n",
    "import torch.optim as optim\n",
    "from torchvision import datasets, transforms"
   ]
  },
  {
   "cell_type": "code",
   "execution_count": null,
   "metadata": {},
   "outputs": [],
   "source": [
    "class CombinedModel(nn.Module):\n",
    "    def __init__(self, num_classes, image_model=None, landmark_model=None, combined='Combined'):\n",
    "        super(CombinedModel, self).__init__()\n",
    "        self.combined = combined\n",
    "        if image_model != None:\n",
    "            self.image_model = image_model\n",
    "        if landmark_model != None:\n",
    "            self.landmark_model = landmark_model\n",
    "        self.fc_ = nn.Linear(512, 512)\n",
    "        self.fcom = nn.Linear(512 + 512, 512)\n",
    "        self.fc2 = nn.Linear(512, num_classes)\n",
    "\n",
    "    def forward(self, image=None, landmarks=None):\n",
    "        if self.combined == 'Combined':\n",
    "            image_features = self.image_model(image)\n",
    "            landmark_features = self.landmark_model(landmarks)\n",
    "            combined_features = torch.cat((image_features, landmark_features), dim=1)\n",
    "            x = nn.ReLU()(self.fcom(combined_features))\n",
    "            x = self.fc2(x)\n",
    "        elif self.combined == 'Image':\n",
    "            image_features = self.image_model(image)\n",
    "            x = nn.ReLU()(self.fc_(combined_features))\n",
    "            x = self.fc2(x)\n",
    "            \n",
    "        elif self.combined == 'Landmark':\n",
    "            landmark_features = self.landmark_model(landmarks)\n",
    "            x = nn.ReLU()(self.fc_(combined_features))\n",
    "            x = self.fc2(x)\n",
    "        return x\n",
    "\n",
    "# Determine the number of classes\n",
    "num_classes = 35\n",
    "\n",
    "# Initialize the combined model\n",
    "model = CombinedModel(num_classes, image_feature_extractor, landmark_extractor, combined='Combined')\n",
    "model.to(device)"
   ]
  },
  {
   "cell_type": "code",
   "execution_count": null,
   "metadata": {},
   "outputs": [],
   "source": [
    "# Train the model\n",
    "num_epochs = 10\n",
    "# Define the loss function and optimizer\n",
    "criterion = nn.CrossEntropyLoss()\n",
    "optimizer = torch.optim.Adam(model.parameters(), lr=0.001)\n",
    "\n",
    "for epoch in range(num_epochs):\n",
    "    model.train()\n",
    "    running_loss = 0.0\n",
    "    for images, landmarks, labels in train_loader:\n",
    "        images, landmarks, labels = images.to(device), landmarks.to(device), labels.to(device)\n",
    "        \n",
    "        optimizer.zero_grad()\n",
    "        outputs = model(images, landmarks)\n",
    "        loss = criterion(outputs, labels)\n",
    "        loss.backward()\n",
    "        optimizer.step()\n",
    "        \n",
    "        running_loss += loss.item()\n",
    "    \n",
    "    print(f\"Epoch [{epoch + 1}/{num_epochs}], Loss: {running_loss / len(train_loader)}\")\n",
    "\n",
    "    # Validate the model\n",
    "    model.eval()\n",
    "    correct = 0\n",
    "    total = 0\n",
    "    with torch.no_grad():\n",
    "        for images, landmarks, labels in val_loader:\n",
    "            images, landmarks, labels = images.to(device), landmarks.to(device), labels.to(device)\n",
    "            outputs = model(images, landmarks)\n",
    "            _, predicted = torch.max(outputs.data, 1)\n",
    "            total += labels.size(0)\n",
    "            correct += (predicted == labels).sum().item()\n",
    "\n",
    "    print(f'Validation Accuracy: {100 * correct / total}%')\n",
    "\n",
    "# Save the trained model\n",
    "torch.save(model.state_dict(), 'combined_model.pth')\n"
   ]
  }
 ],
 "metadata": {
  "kernelspec": {
   "display_name": "compvisproject",
   "language": "python",
   "name": "python3"
  },
  "language_info": {
   "name": "python",
   "version": "3.11.9"
  }
 },
 "nbformat": 4,
 "nbformat_minor": 2
}
