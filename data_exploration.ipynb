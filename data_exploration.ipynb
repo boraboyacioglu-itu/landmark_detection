{
 "cells": [
  {
   "cell_type": "markdown",
   "metadata": {},
   "source": [
    "## Read the Data"
   ]
  },
  {
   "cell_type": "markdown",
   "metadata": {},
   "source": [
    "Import necessary libraries."
   ]
  },
  {
   "cell_type": "code",
   "execution_count": 1,
   "metadata": {},
   "outputs": [],
   "source": [
    "import numpy as np\n",
    "import pandas as pd\n",
    "\n",
    "from matplotlib import pyplot as plt\n",
    "from plotly import graph_objs as go"
   ]
  },
  {
   "cell_type": "markdown",
   "metadata": {},
   "source": [
    "Read the data."
   ]
  },
  {
   "cell_type": "code",
   "execution_count": 2,
   "metadata": {},
   "outputs": [],
   "source": [
    "data = None\n",
    "\n",
    "with open('new_data/300wLP_anno_tr.json') as f:\n",
    "    ignore = ['isValidation', 'img_width', 'img_height']\n",
    "    \n",
    "    data = pd.read_json(f)\n",
    "    data = data.drop(columns=ignore)"
   ]
  },
  {
   "cell_type": "code",
   "execution_count": 3,
   "metadata": {},
   "outputs": [
    {
     "data": {
      "text/html": [
       "<div>\n",
       "<style scoped>\n",
       "    .dataframe tbody tr th:only-of-type {\n",
       "        vertical-align: middle;\n",
       "    }\n",
       "\n",
       "    .dataframe tbody tr th {\n",
       "        vertical-align: top;\n",
       "    }\n",
       "\n",
       "    .dataframe thead th {\n",
       "        text-align: right;\n",
       "    }\n",
       "</style>\n",
       "<table border=\"1\" class=\"dataframe\">\n",
       "  <thead>\n",
       "    <tr style=\"text-align: right;\">\n",
       "      <th></th>\n",
       "      <th>img_paths</th>\n",
       "      <th>objpos</th>\n",
       "      <th>scale_provided</th>\n",
       "      <th>bbox</th>\n",
       "      <th>landmarks</th>\n",
       "      <th>landmarks_2d</th>\n",
       "      <th>head_pose</th>\n",
       "    </tr>\n",
       "  </thead>\n",
       "  <tbody>\n",
       "    <tr>\n",
       "      <th>0</th>\n",
       "      <td>AFW/AFW_1051618982_1_0.jpg</td>\n",
       "      <td>[227.0259552, 298.4931946]</td>\n",
       "      <td>0.911768</td>\n",
       "      <td>[135.8491516, 215.2526703, 182.3536072, 166.48...</td>\n",
       "      <td>[[135.5419922, 243.8638153, -67.62865448], [13...</td>\n",
       "      <td>[[135.8491516, 242.7403412], [137.8736725, 266...</td>\n",
       "      <td>[-5.037350655, 0.2395197004, 1.523025155]</td>\n",
       "    </tr>\n",
       "    <tr>\n",
       "      <th>1</th>\n",
       "      <td>AFW/AFW_1051618982_1_1.jpg</td>\n",
       "      <td>[231.3812561, 299.8146362]</td>\n",
       "      <td>0.908580</td>\n",
       "      <td>[140.5232239, 216.4512634, 181.7160645, 166.72...</td>\n",
       "      <td>[[140.4693909, 240.2672119, -73.68688965], [14...</td>\n",
       "      <td>[[140.5232239, 239.2648773], [140.6314392, 266...</td>\n",
       "      <td>[-7.089375019, 5.239519596, 2.212796926]</td>\n",
       "    </tr>\n",
       "    <tr>\n",
       "      <th>2</th>\n",
       "      <td>AFW/AFW_1051618982_1_10.jpg</td>\n",
       "      <td>[235.726532, 295.34552]</td>\n",
       "      <td>0.853296</td>\n",
       "      <td>[150.3969269, 210.1190948, 170.6592255, 170.45...</td>\n",
       "      <td>[[204.7253418, 234.839035, -117.61026], [203.4...</td>\n",
       "      <td>[[157.4411926, 245.7213745], [150.9309692, 268...</td>\n",
       "      <td>[-7.032663822, 50.23952103, 2.25369072]</td>\n",
       "    </tr>\n",
       "    <tr>\n",
       "      <th>3</th>\n",
       "      <td>AFW/AFW_1051618982_1_11.jpg</td>\n",
       "      <td>[231.4551697, 294.9733276]</td>\n",
       "      <td>0.854604</td>\n",
       "      <td>[145.994812, 209.8023987, 170.9207153, 170.341...</td>\n",
       "      <td>[[213.2453308, 236.2964172, -119.8408813], [21...</td>\n",
       "      <td>[[158.3337402, 246.4070435], [152.5475311, 269...</td>\n",
       "      <td>[-6.688948631, 55.23952103, 1.5502201320000002]</td>\n",
       "    </tr>\n",
       "    <tr>\n",
       "      <th>4</th>\n",
       "      <td>AFW/AFW_1051618982_1_12.jpg</td>\n",
       "      <td>[226.9594116, 294.1109924]</td>\n",
       "      <td>0.855151</td>\n",
       "      <td>[141.4443207, 208.5832672, 171.0301666, 171.05...</td>\n",
       "      <td>[[222.3459473, 234.3593445, -119.6676025], [22...</td>\n",
       "      <td>[[160.0543671, 245.4129791], [154.4994202, 269...</td>\n",
       "      <td>[-7.17603159, 60.23952484, 2.234272718]</td>\n",
       "    </tr>\n",
       "  </tbody>\n",
       "</table>\n",
       "</div>"
      ],
      "text/plain": [
       "                     img_paths                      objpos  scale_provided  \\\n",
       "0   AFW/AFW_1051618982_1_0.jpg  [227.0259552, 298.4931946]        0.911768   \n",
       "1   AFW/AFW_1051618982_1_1.jpg  [231.3812561, 299.8146362]        0.908580   \n",
       "2  AFW/AFW_1051618982_1_10.jpg     [235.726532, 295.34552]        0.853296   \n",
       "3  AFW/AFW_1051618982_1_11.jpg  [231.4551697, 294.9733276]        0.854604   \n",
       "4  AFW/AFW_1051618982_1_12.jpg  [226.9594116, 294.1109924]        0.855151   \n",
       "\n",
       "                                                bbox  \\\n",
       "0  [135.8491516, 215.2526703, 182.3536072, 166.48...   \n",
       "1  [140.5232239, 216.4512634, 181.7160645, 166.72...   \n",
       "2  [150.3969269, 210.1190948, 170.6592255, 170.45...   \n",
       "3  [145.994812, 209.8023987, 170.9207153, 170.341...   \n",
       "4  [141.4443207, 208.5832672, 171.0301666, 171.05...   \n",
       "\n",
       "                                           landmarks  \\\n",
       "0  [[135.5419922, 243.8638153, -67.62865448], [13...   \n",
       "1  [[140.4693909, 240.2672119, -73.68688965], [14...   \n",
       "2  [[204.7253418, 234.839035, -117.61026], [203.4...   \n",
       "3  [[213.2453308, 236.2964172, -119.8408813], [21...   \n",
       "4  [[222.3459473, 234.3593445, -119.6676025], [22...   \n",
       "\n",
       "                                        landmarks_2d  \\\n",
       "0  [[135.8491516, 242.7403412], [137.8736725, 266...   \n",
       "1  [[140.5232239, 239.2648773], [140.6314392, 266...   \n",
       "2  [[157.4411926, 245.7213745], [150.9309692, 268...   \n",
       "3  [[158.3337402, 246.4070435], [152.5475311, 269...   \n",
       "4  [[160.0543671, 245.4129791], [154.4994202, 269...   \n",
       "\n",
       "                                         head_pose  \n",
       "0        [-5.037350655, 0.2395197004, 1.523025155]  \n",
       "1         [-7.089375019, 5.239519596, 2.212796926]  \n",
       "2          [-7.032663822, 50.23952103, 2.25369072]  \n",
       "3  [-6.688948631, 55.23952103, 1.5502201320000002]  \n",
       "4          [-7.17603159, 60.23952484, 2.234272718]  "
      ]
     },
     "execution_count": 3,
     "metadata": {},
     "output_type": "execute_result"
    }
   ],
   "source": [
    "data.head()"
   ]
  },
  {
   "cell_type": "markdown",
   "metadata": {},
   "source": [
    "Filtered Data"
   ]
  },
  {
   "cell_type": "code",
   "execution_count": 4,
   "metadata": {},
   "outputs": [],
   "source": [
    "# Get all the elements but the last one of the split.\n",
    "data['base_img_paths'] = data['img_paths'].str.split('_').str[:-1].str.join('_')\n",
    "\n",
    "# Create the new DataFrame by grouping the 2D landmarks.\n",
    "lm = data.groupby('base_img_paths').agg({\n",
    "    'landmarks': lambda x: np.array(x.tolist()),\n",
    "    'landmarks_2d': lambda x: np.array(x.tolist())\n",
    "}).reset_index()"
   ]
  },
  {
   "cell_type": "markdown",
   "metadata": {},
   "source": [
    "Sub-Index Counts"
   ]
  },
  {
   "cell_type": "code",
   "execution_count": 5,
   "metadata": {},
   "outputs": [
    {
     "data": {
      "text/plain": [
       "landmarks_2d\n",
       "18    1190\n",
       "17     733\n",
       "16     578\n",
       "15     444\n",
       "14     354\n",
       "13     229\n",
       "12     175\n",
       "11      80\n",
       "10      40\n",
       "9       11\n",
       "8        3\n",
       "Name: count, dtype: int64"
      ]
     },
     "execution_count": 5,
     "metadata": {},
     "output_type": "execute_result"
    }
   ],
   "source": [
    "lm['landmarks_2d'].apply(lambda x: x.shape[0]).value_counts()"
   ]
  },
  {
   "cell_type": "markdown",
   "metadata": {},
   "source": [
    "Save the data."
   ]
  },
  {
   "cell_type": "code",
   "execution_count": 6,
   "metadata": {},
   "outputs": [],
   "source": [
    "# Save the DataFrame \"lm\".\n",
    "lm.to_json('new_data/lm_300wLP_anno_tr.json')"
   ]
  },
  {
   "cell_type": "markdown",
   "metadata": {},
   "source": [
    "## Plot 3D"
   ]
  },
  {
   "cell_type": "code",
   "execution_count": 9,
   "metadata": {},
   "outputs": [],
   "source": [
    "def plot_3d(row):\n",
    "    \n",
    "    landmarks_3d = np.array(row.landmarks[0]).transpose()\n",
    "    \n",
    "    fig = go.Figure()\n",
    "\n",
    "    fig.add_trace(go.Scatter3d(\n",
    "        x=landmarks_3d[0],\n",
    "        y=landmarks_3d[1],\n",
    "        z=landmarks_3d[2],\n",
    "        mode='markers',\n",
    "        marker=dict(size=3, color='red'),\n",
    "        name='3D Landmarks'\n",
    "    ))\n",
    "\n",
    "    # Update layout for interactive controls\n",
    "    fig.update_layout(\n",
    "        scene=dict(\n",
    "            xaxis=dict(title='X'),\n",
    "            yaxis=dict(title='Y'),\n",
    "            zaxis=dict(title='Z'),\n",
    "            aspectmode='cube',  # Cube aspect ratio for equal scaling\n",
    "            camera=dict(up=dict(x=0, y=0, z=1), eye=dict(x=0, y=0, z=-2)),  # Initial camera position\n",
    "        ),\n",
    "        title=row.base_img_paths\n",
    "    )\n",
    "\n",
    "    # Show the interactive plot in Jupyter Notebook or in a separate browser window\n",
    "    fig.show()\n",
    "\n",
    "    #plt.scatter(landmarks_2d[0], landmarks_2d[1], c='red', s=3)\n",
    "    #plt.imshow(image)\n",
    "    plt.show()"
   ]
  },
  {
   "cell_type": "code",
   "execution_count": 10,
   "metadata": {},
   "outputs": [
    {
     "data": {
      "application/vnd.plotly.v1+json": {
       "config": {
        "plotlyServerURL": "https://plot.ly"
       },
       "data": [
        {
         "marker": {
          "color": "red",
          "size": 3
         },
         "mode": "markers",
         "name": "3D Landmarks",
         "type": "scatter3d",
         "x": [
          132.557251,
          134.7738953,
          138.4727783,
          142.900116,
          151.2042999,
          168.33992,
          190.6996918,
          216.5995483,
          245.1321564,
          266.3779602,
          275.0474854,
          279.6117554,
          284.1966248,
          287.335968,
          290.9030151,
          295.997467,
          299.4348145,
          180.4465027,
          195.9472656,
          212.8928833,
          227.3959961,
          239.1721191,
          282.9780884,
          292.612915,
          301.72210689999997,
          310.1848145,
          313.7001953,
          262.3415527,
          266.604248,
          271.0314331,
          271.6566467,
          245.2104492,
          254.0025482,
          263.6757507,
          270.9188538,
          274.2637024,
          197.8308411,
          210.0600586,
          221.9691467,
          230.795639,
          221.9206543,
          208.8051147,
          274.31073,
          286.231781,
          297.8656006,
          301.3757935,
          295.7671509,
          285.0142517,
          211.7398529,
          232.7966766,
          254.1196899,
          262.3121948,
          269.5372314,
          279.6550598,
          282.5061035,
          276.6803589,
          269.3843384,
          259.2084045,
          247.0489502,
          232.3643036,
          214.8833313,
          247.7136536,
          259.9984436,
          268.9622498,
          280.8726807,
          268.7987366,
          259.5656738,
          247.6853943
         ],
         "y": [
          239.5843658,
          263.8855896,
          286.5067749,
          307.372345,
          331.1535034,
          351.763031,
          366.7662048,
          380.5914612,
          388.1077881,
          381.7083435,
          368.4499512,
          353.6672974,
          333.4766846,
          309.800415,
          288.8375549,
          266.6260681,
          242.8539124,
          220.4173889,
          211.0773315,
          210.3780212,
          214.1989136,
          219.3246765,
          222.3475189,
          218.387146,
          215.8304443,
          217.1576385,
          225.2432251,
          251.1096344,
          267.9920654,
          283.1529541,
          295.6389465,
          303.6589661,
          305.8781433,
          308.0038147,
          305.3254089,
          302.8534546,
          244.7755737,
          240.9042206,
          242.0534973,
          247.7442932,
          251.3474121,
          251.0024872,
          249.8634033,
          244.6775818,
          244.3865967,
          247.72052,
          253.1431122,
          253.4300232,
          325.6714172,
          323.6080933,
          321.3549805,
          323.0245972,
          321.5020142,
          324.5157776,
          328.7346191,
          339.7023315,
          344.6282959,
          345.0241394,
          343.3379822,
          337.217865,
          325.2645264,
          328.5108643,
          329.2804565,
          329.5558472,
          328.4639587,
          332.9268188,
          333.4210205,
          331.754425
         ],
         "z": [
          -30.00508881,
          -31.29605484,
          -34.56689072,
          -34.95932388,
          -30.4402771,
          -18.76324463,
          -3.376663208,
          8.883422852,
          5.474433899,
          -14.21199799,
          -42.26717758,
          -68.27230835,
          -87.51641846,
          -96.01748657,
          -98.91703796,
          -99.78643799,
          -100.4750748,
          37.68813324,
          47.47884369,
          52.9852829,
          54.58979034,
          52.72353363,
          33.72026062,
          26.63863373,
          15.61824036,
          -0.07390594482,
          -18.71721649,
          44.29590607,
          53.14652252,
          61.93813324,
          62.74607086,
          42.81678009,
          44.88019562,
          43.45888519,
          37.19609833,
          28.98769379,
          38.83084869,
          46.47788239,
          41.88855743,
          33.93135071,
          39.90169525,
          41.969306950000004,
          15.03912354,
          13.696281429999999,
          8.256980896,
          -5.821510315,
          4.5748367309999995,
          12.66972351,
          27.01914215,
          38.46889496,
          40.80181122,
          38.07883453,
          34.41493988,
          18.7193985,
          -3.111305237,
          14.56049347,
          25.20430756,
          31.75336456,
          35.19150543,
          33.55998993,
          25.99767303,
          34.91616821,
          32.59474182,
          25.90164948,
          -1.631950378,
          25.93018341,
          32.5558548,
          35.35665131
         ]
        }
       ],
       "layout": {
        "scene": {
         "aspectmode": "cube",
         "camera": {
          "eye": {
           "x": 0,
           "y": 0,
           "z": -2
          },
          "up": {
           "x": 0,
           "y": 0,
           "z": 1
          }
         },
         "xaxis": {
          "title": {
           "text": "X"
          }
         },
         "yaxis": {
          "title": {
           "text": "Y"
          }
         },
         "zaxis": {
          "title": {
           "text": "Z"
          }
         }
        },
        "template": {
         "data": {
          "bar": [
           {
            "error_x": {
             "color": "#2a3f5f"
            },
            "error_y": {
             "color": "#2a3f5f"
            },
            "marker": {
             "line": {
              "color": "#E5ECF6",
              "width": 0.5
             },
             "pattern": {
              "fillmode": "overlay",
              "size": 10,
              "solidity": 0.2
             }
            },
            "type": "bar"
           }
          ],
          "barpolar": [
           {
            "marker": {
             "line": {
              "color": "#E5ECF6",
              "width": 0.5
             },
             "pattern": {
              "fillmode": "overlay",
              "size": 10,
              "solidity": 0.2
             }
            },
            "type": "barpolar"
           }
          ],
          "carpet": [
           {
            "aaxis": {
             "endlinecolor": "#2a3f5f",
             "gridcolor": "white",
             "linecolor": "white",
             "minorgridcolor": "white",
             "startlinecolor": "#2a3f5f"
            },
            "baxis": {
             "endlinecolor": "#2a3f5f",
             "gridcolor": "white",
             "linecolor": "white",
             "minorgridcolor": "white",
             "startlinecolor": "#2a3f5f"
            },
            "type": "carpet"
           }
          ],
          "choropleth": [
           {
            "colorbar": {
             "outlinewidth": 0,
             "ticks": ""
            },
            "type": "choropleth"
           }
          ],
          "contour": [
           {
            "colorbar": {
             "outlinewidth": 0,
             "ticks": ""
            },
            "colorscale": [
             [
              0,
              "#0d0887"
             ],
             [
              0.1111111111111111,
              "#46039f"
             ],
             [
              0.2222222222222222,
              "#7201a8"
             ],
             [
              0.3333333333333333,
              "#9c179e"
             ],
             [
              0.4444444444444444,
              "#bd3786"
             ],
             [
              0.5555555555555556,
              "#d8576b"
             ],
             [
              0.6666666666666666,
              "#ed7953"
             ],
             [
              0.7777777777777778,
              "#fb9f3a"
             ],
             [
              0.8888888888888888,
              "#fdca26"
             ],
             [
              1,
              "#f0f921"
             ]
            ],
            "type": "contour"
           }
          ],
          "contourcarpet": [
           {
            "colorbar": {
             "outlinewidth": 0,
             "ticks": ""
            },
            "type": "contourcarpet"
           }
          ],
          "heatmap": [
           {
            "colorbar": {
             "outlinewidth": 0,
             "ticks": ""
            },
            "colorscale": [
             [
              0,
              "#0d0887"
             ],
             [
              0.1111111111111111,
              "#46039f"
             ],
             [
              0.2222222222222222,
              "#7201a8"
             ],
             [
              0.3333333333333333,
              "#9c179e"
             ],
             [
              0.4444444444444444,
              "#bd3786"
             ],
             [
              0.5555555555555556,
              "#d8576b"
             ],
             [
              0.6666666666666666,
              "#ed7953"
             ],
             [
              0.7777777777777778,
              "#fb9f3a"
             ],
             [
              0.8888888888888888,
              "#fdca26"
             ],
             [
              1,
              "#f0f921"
             ]
            ],
            "type": "heatmap"
           }
          ],
          "heatmapgl": [
           {
            "colorbar": {
             "outlinewidth": 0,
             "ticks": ""
            },
            "colorscale": [
             [
              0,
              "#0d0887"
             ],
             [
              0.1111111111111111,
              "#46039f"
             ],
             [
              0.2222222222222222,
              "#7201a8"
             ],
             [
              0.3333333333333333,
              "#9c179e"
             ],
             [
              0.4444444444444444,
              "#bd3786"
             ],
             [
              0.5555555555555556,
              "#d8576b"
             ],
             [
              0.6666666666666666,
              "#ed7953"
             ],
             [
              0.7777777777777778,
              "#fb9f3a"
             ],
             [
              0.8888888888888888,
              "#fdca26"
             ],
             [
              1,
              "#f0f921"
             ]
            ],
            "type": "heatmapgl"
           }
          ],
          "histogram": [
           {
            "marker": {
             "pattern": {
              "fillmode": "overlay",
              "size": 10,
              "solidity": 0.2
             }
            },
            "type": "histogram"
           }
          ],
          "histogram2d": [
           {
            "colorbar": {
             "outlinewidth": 0,
             "ticks": ""
            },
            "colorscale": [
             [
              0,
              "#0d0887"
             ],
             [
              0.1111111111111111,
              "#46039f"
             ],
             [
              0.2222222222222222,
              "#7201a8"
             ],
             [
              0.3333333333333333,
              "#9c179e"
             ],
             [
              0.4444444444444444,
              "#bd3786"
             ],
             [
              0.5555555555555556,
              "#d8576b"
             ],
             [
              0.6666666666666666,
              "#ed7953"
             ],
             [
              0.7777777777777778,
              "#fb9f3a"
             ],
             [
              0.8888888888888888,
              "#fdca26"
             ],
             [
              1,
              "#f0f921"
             ]
            ],
            "type": "histogram2d"
           }
          ],
          "histogram2dcontour": [
           {
            "colorbar": {
             "outlinewidth": 0,
             "ticks": ""
            },
            "colorscale": [
             [
              0,
              "#0d0887"
             ],
             [
              0.1111111111111111,
              "#46039f"
             ],
             [
              0.2222222222222222,
              "#7201a8"
             ],
             [
              0.3333333333333333,
              "#9c179e"
             ],
             [
              0.4444444444444444,
              "#bd3786"
             ],
             [
              0.5555555555555556,
              "#d8576b"
             ],
             [
              0.6666666666666666,
              "#ed7953"
             ],
             [
              0.7777777777777778,
              "#fb9f3a"
             ],
             [
              0.8888888888888888,
              "#fdca26"
             ],
             [
              1,
              "#f0f921"
             ]
            ],
            "type": "histogram2dcontour"
           }
          ],
          "mesh3d": [
           {
            "colorbar": {
             "outlinewidth": 0,
             "ticks": ""
            },
            "type": "mesh3d"
           }
          ],
          "parcoords": [
           {
            "line": {
             "colorbar": {
              "outlinewidth": 0,
              "ticks": ""
             }
            },
            "type": "parcoords"
           }
          ],
          "pie": [
           {
            "automargin": true,
            "type": "pie"
           }
          ],
          "scatter": [
           {
            "fillpattern": {
             "fillmode": "overlay",
             "size": 10,
             "solidity": 0.2
            },
            "type": "scatter"
           }
          ],
          "scatter3d": [
           {
            "line": {
             "colorbar": {
              "outlinewidth": 0,
              "ticks": ""
             }
            },
            "marker": {
             "colorbar": {
              "outlinewidth": 0,
              "ticks": ""
             }
            },
            "type": "scatter3d"
           }
          ],
          "scattercarpet": [
           {
            "marker": {
             "colorbar": {
              "outlinewidth": 0,
              "ticks": ""
             }
            },
            "type": "scattercarpet"
           }
          ],
          "scattergeo": [
           {
            "marker": {
             "colorbar": {
              "outlinewidth": 0,
              "ticks": ""
             }
            },
            "type": "scattergeo"
           }
          ],
          "scattergl": [
           {
            "marker": {
             "colorbar": {
              "outlinewidth": 0,
              "ticks": ""
             }
            },
            "type": "scattergl"
           }
          ],
          "scattermapbox": [
           {
            "marker": {
             "colorbar": {
              "outlinewidth": 0,
              "ticks": ""
             }
            },
            "type": "scattermapbox"
           }
          ],
          "scatterpolar": [
           {
            "marker": {
             "colorbar": {
              "outlinewidth": 0,
              "ticks": ""
             }
            },
            "type": "scatterpolar"
           }
          ],
          "scatterpolargl": [
           {
            "marker": {
             "colorbar": {
              "outlinewidth": 0,
              "ticks": ""
             }
            },
            "type": "scatterpolargl"
           }
          ],
          "scatterternary": [
           {
            "marker": {
             "colorbar": {
              "outlinewidth": 0,
              "ticks": ""
             }
            },
            "type": "scatterternary"
           }
          ],
          "surface": [
           {
            "colorbar": {
             "outlinewidth": 0,
             "ticks": ""
            },
            "colorscale": [
             [
              0,
              "#0d0887"
             ],
             [
              0.1111111111111111,
              "#46039f"
             ],
             [
              0.2222222222222222,
              "#7201a8"
             ],
             [
              0.3333333333333333,
              "#9c179e"
             ],
             [
              0.4444444444444444,
              "#bd3786"
             ],
             [
              0.5555555555555556,
              "#d8576b"
             ],
             [
              0.6666666666666666,
              "#ed7953"
             ],
             [
              0.7777777777777778,
              "#fb9f3a"
             ],
             [
              0.8888888888888888,
              "#fdca26"
             ],
             [
              1,
              "#f0f921"
             ]
            ],
            "type": "surface"
           }
          ],
          "table": [
           {
            "cells": {
             "fill": {
              "color": "#EBF0F8"
             },
             "line": {
              "color": "white"
             }
            },
            "header": {
             "fill": {
              "color": "#C8D4E3"
             },
             "line": {
              "color": "white"
             }
            },
            "type": "table"
           }
          ]
         },
         "layout": {
          "annotationdefaults": {
           "arrowcolor": "#2a3f5f",
           "arrowhead": 0,
           "arrowwidth": 1
          },
          "autotypenumbers": "strict",
          "coloraxis": {
           "colorbar": {
            "outlinewidth": 0,
            "ticks": ""
           }
          },
          "colorscale": {
           "diverging": [
            [
             0,
             "#8e0152"
            ],
            [
             0.1,
             "#c51b7d"
            ],
            [
             0.2,
             "#de77ae"
            ],
            [
             0.3,
             "#f1b6da"
            ],
            [
             0.4,
             "#fde0ef"
            ],
            [
             0.5,
             "#f7f7f7"
            ],
            [
             0.6,
             "#e6f5d0"
            ],
            [
             0.7,
             "#b8e186"
            ],
            [
             0.8,
             "#7fbc41"
            ],
            [
             0.9,
             "#4d9221"
            ],
            [
             1,
             "#276419"
            ]
           ],
           "sequential": [
            [
             0,
             "#0d0887"
            ],
            [
             0.1111111111111111,
             "#46039f"
            ],
            [
             0.2222222222222222,
             "#7201a8"
            ],
            [
             0.3333333333333333,
             "#9c179e"
            ],
            [
             0.4444444444444444,
             "#bd3786"
            ],
            [
             0.5555555555555556,
             "#d8576b"
            ],
            [
             0.6666666666666666,
             "#ed7953"
            ],
            [
             0.7777777777777778,
             "#fb9f3a"
            ],
            [
             0.8888888888888888,
             "#fdca26"
            ],
            [
             1,
             "#f0f921"
            ]
           ],
           "sequentialminus": [
            [
             0,
             "#0d0887"
            ],
            [
             0.1111111111111111,
             "#46039f"
            ],
            [
             0.2222222222222222,
             "#7201a8"
            ],
            [
             0.3333333333333333,
             "#9c179e"
            ],
            [
             0.4444444444444444,
             "#bd3786"
            ],
            [
             0.5555555555555556,
             "#d8576b"
            ],
            [
             0.6666666666666666,
             "#ed7953"
            ],
            [
             0.7777777777777778,
             "#fb9f3a"
            ],
            [
             0.8888888888888888,
             "#fdca26"
            ],
            [
             1,
             "#f0f921"
            ]
           ]
          },
          "colorway": [
           "#636efa",
           "#EF553B",
           "#00cc96",
           "#ab63fa",
           "#FFA15A",
           "#19d3f3",
           "#FF6692",
           "#B6E880",
           "#FF97FF",
           "#FECB52"
          ],
          "font": {
           "color": "#2a3f5f"
          },
          "geo": {
           "bgcolor": "white",
           "lakecolor": "white",
           "landcolor": "#E5ECF6",
           "showlakes": true,
           "showland": true,
           "subunitcolor": "white"
          },
          "hoverlabel": {
           "align": "left"
          },
          "hovermode": "closest",
          "mapbox": {
           "style": "light"
          },
          "paper_bgcolor": "white",
          "plot_bgcolor": "#E5ECF6",
          "polar": {
           "angularaxis": {
            "gridcolor": "white",
            "linecolor": "white",
            "ticks": ""
           },
           "bgcolor": "#E5ECF6",
           "radialaxis": {
            "gridcolor": "white",
            "linecolor": "white",
            "ticks": ""
           }
          },
          "scene": {
           "xaxis": {
            "backgroundcolor": "#E5ECF6",
            "gridcolor": "white",
            "gridwidth": 2,
            "linecolor": "white",
            "showbackground": true,
            "ticks": "",
            "zerolinecolor": "white"
           },
           "yaxis": {
            "backgroundcolor": "#E5ECF6",
            "gridcolor": "white",
            "gridwidth": 2,
            "linecolor": "white",
            "showbackground": true,
            "ticks": "",
            "zerolinecolor": "white"
           },
           "zaxis": {
            "backgroundcolor": "#E5ECF6",
            "gridcolor": "white",
            "gridwidth": 2,
            "linecolor": "white",
            "showbackground": true,
            "ticks": "",
            "zerolinecolor": "white"
           }
          },
          "shapedefaults": {
           "line": {
            "color": "#2a3f5f"
           }
          },
          "ternary": {
           "aaxis": {
            "gridcolor": "white",
            "linecolor": "white",
            "ticks": ""
           },
           "baxis": {
            "gridcolor": "white",
            "linecolor": "white",
            "ticks": ""
           },
           "bgcolor": "#E5ECF6",
           "caxis": {
            "gridcolor": "white",
            "linecolor": "white",
            "ticks": ""
           }
          },
          "title": {
           "x": 0.05
          },
          "xaxis": {
           "automargin": true,
           "gridcolor": "white",
           "linecolor": "white",
           "ticks": "",
           "title": {
            "standoff": 15
           },
           "zerolinecolor": "white",
           "zerolinewidth": 2
          },
          "yaxis": {
           "automargin": true,
           "gridcolor": "white",
           "linecolor": "white",
           "ticks": "",
           "title": {
            "standoff": 15
           },
           "zerolinecolor": "white",
           "zerolinewidth": 2
          }
         }
        },
        "title": {
         "text": "AFW/AFW_1130084326_2"
        }
       }
      }
     },
     "metadata": {},
     "output_type": "display_data"
    }
   ],
   "source": [
    "index = 4\n",
    "row = lm.iloc[index]\n",
    "plot_3d(row)"
   ]
  }
 ],
 "metadata": {
  "kernelspec": {
   "display_name": "Python 3",
   "language": "python",
   "name": "python3"
  },
  "language_info": {
   "codemirror_mode": {
    "name": "ipython",
    "version": 3
   },
   "file_extension": ".py",
   "mimetype": "text/x-python",
   "name": "python",
   "nbconvert_exporter": "python",
   "pygments_lexer": "ipython3",
   "version": "3.11.9"
  }
 },
 "nbformat": 4,
 "nbformat_minor": 2
}
